{
 "cells": [
  {
   "cell_type": "code",
   "execution_count": 3,
   "id": "e04266ce",
   "metadata": {
    "scrolled": true
   },
   "outputs": [
    {
     "name": "stdout",
     "output_type": "stream",
     "text": [
      "Hi there! How are you today? The answer is 4*8 + 34 - 2 = (2^6)\n",
      "Uppercase 3\n",
      "Lowercase 29\n",
      "Other 16\n"
     ]
    }
   ],
   "source": [
    "info = input()\n",
    "upper = 0\n",
    "lower = 0\n",
    "other = 0\n",
    "for i in info:\n",
    "    if ord(i)<91 and ord(i)>64:\n",
    "        upper += 1\n",
    "    elif ord(i)>94 and ord(i)<123:\n",
    "        lower += 1\n",
    "    elif ord(i)==32:\n",
    "        continue\n",
    "    else:\n",
    "        other += 1\n",
    "print(\"Uppercase\",upper)\n",
    "print(\"Lowercase\",lower)\n",
    "print(\"Other\",other)"
   ]
  },
  {
   "cell_type": "code",
   "execution_count": null,
   "id": "de97c120",
   "metadata": {},
   "outputs": [],
   "source": []
  }
 ],
 "metadata": {
  "kernelspec": {
   "display_name": "Python 3",
   "language": "python",
   "name": "python3"
  },
  "language_info": {
   "codemirror_mode": {
    "name": "ipython",
    "version": 3
   },
   "file_extension": ".py",
   "mimetype": "text/x-python",
   "name": "python",
   "nbconvert_exporter": "python",
   "pygments_lexer": "ipython3",
   "version": "3.6.9"
  }
 },
 "nbformat": 4,
 "nbformat_minor": 5
}
