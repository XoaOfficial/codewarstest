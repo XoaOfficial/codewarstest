{
 "cells": [
  {
   "cell_type": "code",
   "execution_count": 15,
   "id": "32cf8098",
   "metadata": {
    "scrolled": true
   },
   "outputs": [
    {
     "name": "stdout",
     "output_type": "stream",
     "text": [
      "1C3\n",
      "4U6\n",
      "789\n",
      "XCX\n",
      "[2, 0]\n",
      "[5]\n"
     ]
    }
   ],
   "source": [
    "info = []\n",
    "filtroC = []\n",
    "filtroU = []\n",
    "posibles = []\n",
    "\n",
    "for i in range (4):\n",
    "    info.append(input())\n",
    "for i in range (3):\n",
    "    for j in range (2):\n",
    "        if info[i][j]==\"C\":\n",
    "            filtroC.append(j+1+3*i)\n",
    "        elif info[i][j]==\"U\":\n",
    "            filtroU.append(j+1+3*i)\n",
    "if info[3][1]==\"C\":\n",
    "    filtroC.append(0)\n",
    "elif info[3][1]==\"U\":\n",
    "    filtroU.append(0)\n",
    "\n",
    "print(filtroC)\n",
    "print(filtroU)"
   ]
  },
  {
   "cell_type": "markdown",
   "id": "de873208",
   "metadata": {},
   "source": []
  }
 ],
 "metadata": {
  "kernelspec": {
   "display_name": "Python 3",
   "language": "python",
   "name": "python3"
  },
  "language_info": {
   "codemirror_mode": {
    "name": "ipython",
    "version": 3
   },
   "file_extension": ".py",
   "mimetype": "text/x-python",
   "name": "python",
   "nbconvert_exporter": "python",
   "pygments_lexer": "ipython3",
   "version": "3.6.9"
  }
 },
 "nbformat": 4,
 "nbformat_minor": 5
}
