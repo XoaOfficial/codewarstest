{
 "cells": [
  {
   "cell_type": "code",
   "execution_count": 34,
   "id": "fd18e9ed",
   "metadata": {},
   "outputs": [
    {
     "name": "stdout",
     "output_type": "stream",
     "text": [
      "1UU\n",
      "U5U\n",
      "789\n",
      "XCX\n",
      "['0', '101', '402', '903', '1604', '2505', '3606', '4907', '6408', '8109']\n",
      "['1', '2', '3', '4', '5', '6', '7', '8', '9']\n",
      "['0', '101', '402', '903', '1604', '2505', '3606', '4907', '6408', '8109']\n",
      "['1', '5', '7', '8', '9']\n",
      "['0', '402', '1604', '3606', '6408']\n",
      "['1', '5', '7', '8', '9']\n",
      "WILL NOT WIN BET\n"
     ]
    }
   ],
   "source": [
    "info = []\n",
    "filtroC = []\n",
    "filtroU = []\n",
    "posibles = []\n",
    "eliminar = []\n",
    "conservar = []\n",
    "\n",
    "for i in range (10):\n",
    "    posibles.append(str(i**2*100+i))\n",
    "\n",
    "for i in range (4):\n",
    "    info.append(input())\n",
    "for i in range (3):\n",
    "    for j in range (3):\n",
    "        if info[i][j]==\"C\":\n",
    "            filtroC.append(str(j+1+3*i))\n",
    "        elif info[i][j]==\"U\":\n",
    "            filtroU.append(str(j+1+3*i))\n",
    "if info[3][1]==\"C\":\n",
    "    filtroC.append(str(0))\n",
    "elif info[3][1]==\"U\":\n",
    "    filtroU.append(str(0))\n",
    "\n",
    "\"\"\"\n",
    "for i in filtroC:\n",
    "    for j in posibles:\n",
    "        if j.count(filtroC[int(i)]) < 1:\n",
    "            eliminar.append(j)\n",
    "\"\"\"\n",
    "\n",
    "for i in posibles:\n",
    "    for j in filtroC:\n",
    "        if i.count(str(j))<1:\n",
    "            posibles.remove(i)\n",
    "\n",
    "for i in range (10):\n",
    "    eliminar.append(str(i))\n",
    "            \n",
    "for i in filtroC:\n",
    "    if eliminar.count(i)>0:\n",
    "        eliminar.remove(i)\n",
    "\n",
    "print(posibles)\n",
    "print(eliminar)\n",
    "\n",
    "for i in filtroU:\n",
    "    if eliminar.count(i)>0:\n",
    "        eliminar.remove(i)\n",
    "\n",
    "print(posibles)\n",
    "print(eliminar)\n",
    "        \n",
    "for i in posibles:\n",
    "    for j in eliminar:\n",
    "        if i.count(str(j))>0:\n",
    "            posibles.remove(i)\n",
    "            break\n",
    "\n",
    "print(posibles)\n",
    "print(eliminar)\n",
    "\n",
    "for i in posibles:\n",
    "    if len(i)==3:\n",
    "        i = i + \"0\"\n",
    "    elif len(i)==2:\n",
    "        i = i + \"00\"\n",
    "    elif len(i)==1:\n",
    "        i = i + \"000\"\n",
    "            \n",
    "if len(posibles)==1:\n",
    "    print(\"CODE IS: \"+posibles[0])\n",
    "elif len(posibles)>3:\n",
    "    print(\"WILL NOT WIN BET\")\n",
    "elif len(posibles)<1:\n",
    "    print(\"WILL NOT WIN BET\")\n",
    "else:\n",
    "    for i in posibles:\n",
    "        print(\"POSSIBLE MATCH: \"+i)"
   ]
  },
  {
   "cell_type": "code",
   "execution_count": 20,
   "id": "91f0bb49",
   "metadata": {},
   "outputs": [
    {
     "name": "stdout",
     "output_type": "stream",
     "text": [
      "100 Y\n",
      "-1\n",
      "180.00\n"
     ]
    }
   ],
   "source": [
    "info = []\n",
    "separinfo = []\n",
    "calculo = []\n",
    "a = \"\"\n",
    "\n",
    "while True:\n",
    "    a = input()\n",
    "    if a == \"-1\":\n",
    "        break\n",
    "    info.append(a)\n",
    "\n",
    "for i in range(len(info)):\n",
    "    separinfo.append(info[i].split( ))\n",
    "\n",
    "for i in range(len(separinfo)):\n",
    "    if separinfo[i][1] == \"Y\":\n",
    "        calculo.append(1.8*float(separinfo[i][0]))\n",
    "    else:\n",
    "        calculo.append(2*float(separinfo[i][0]))\n",
    "\n",
    "for i in range(len(calculo)):\n",
    "    print(\"{:.2f}\".format(round(calculo[i], 2)))"
   ]
  },
  {
   "cell_type": "code",
   "execution_count": null,
   "id": "5cda103b",
   "metadata": {},
   "outputs": [],
   "source": []
  }
 ],
 "metadata": {
  "kernelspec": {
   "display_name": "Python 3",
   "language": "python",
   "name": "python3"
  },
  "language_info": {
   "codemirror_mode": {
    "name": "ipython",
    "version": 3
   },
   "file_extension": ".py",
   "mimetype": "text/x-python",
   "name": "python",
   "nbconvert_exporter": "python",
   "pygments_lexer": "ipython3",
   "version": "3.6.9"
  }
 },
 "nbformat": 4,
 "nbformat_minor": 5
}
