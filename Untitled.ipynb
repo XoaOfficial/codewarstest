{
 "cells": [
  {
   "cell_type": "code",
   "execution_count": 1,
   "id": "8a65f11e",
   "metadata": {
    "scrolled": true
   },
   "outputs": [
    {
     "ename": "IndexError",
     "evalue": "string index out of range",
     "output_type": "error",
     "traceback": [
      "\u001b[1;31m---------------------------------------------------------------------------\u001b[0m",
      "\u001b[1;31mIndexError\u001b[0m                                Traceback (most recent call last)",
      "Input \u001b[1;32mIn [1]\u001b[0m, in \u001b[0;36m<module>\u001b[1;34m\u001b[0m\n\u001b[0;32m     13\u001b[0m \u001b[38;5;28;01mfor\u001b[39;00m i \u001b[38;5;129;01min\u001b[39;00m \u001b[38;5;28mrange\u001b[39m (\u001b[38;5;241m3\u001b[39m):\n\u001b[0;32m     14\u001b[0m     \u001b[38;5;28;01mfor\u001b[39;00m j \u001b[38;5;129;01min\u001b[39;00m \u001b[38;5;28mrange\u001b[39m (\u001b[38;5;241m3\u001b[39m):\n\u001b[1;32m---> 15\u001b[0m         \u001b[38;5;28;01mif\u001b[39;00m \u001b[43minfo\u001b[49m\u001b[43m[\u001b[49m\u001b[43mi\u001b[49m\u001b[43m]\u001b[49m\u001b[43m[\u001b[49m\u001b[43mj\u001b[49m\u001b[43m]\u001b[49m\u001b[38;5;241m==\u001b[39m\u001b[38;5;124m\"\u001b[39m\u001b[38;5;124mC\u001b[39m\u001b[38;5;124m\"\u001b[39m:\n\u001b[0;32m     16\u001b[0m             filtroC\u001b[38;5;241m.\u001b[39mappend(\u001b[38;5;28mstr\u001b[39m(j\u001b[38;5;241m+\u001b[39m\u001b[38;5;241m1\u001b[39m\u001b[38;5;241m+\u001b[39m\u001b[38;5;241m3\u001b[39m\u001b[38;5;241m*\u001b[39mi))\n\u001b[0;32m     17\u001b[0m         \u001b[38;5;28;01melif\u001b[39;00m info[i][j]\u001b[38;5;241m==\u001b[39m\u001b[38;5;124m\"\u001b[39m\u001b[38;5;124mU\u001b[39m\u001b[38;5;124m\"\u001b[39m:\n",
      "\u001b[1;31mIndexError\u001b[0m: string index out of range"
     ]
    }
   ],
   "source": [
    "info = []\n",
    "filtroC = []\n",
    "filtroU = []\n",
    "posibles = []\n",
    "eliminar = []\n",
    "conservar = []\n",
    "\n",
    "for i in range (10):\n",
    "    posibles.append(str(i**2*100+i))\n",
    "\n",
    "for i in range (4):\n",
    "    info.append(input())\n",
    "for i in range (3):\n",
    "    for j in range (3):\n",
    "        if info[i][j]==\"C\":\n",
    "            filtroC.append(str(j+1+3*i))\n",
    "        elif info[i][j]==\"U\":\n",
    "            filtroU.append(str(j+1+3*i))\n",
    "if info[3][1]==\"C\":\n",
    "    filtroC.append(str(0))\n",
    "elif info[3][1]==\"U\":\n",
    "    filtroU.append(str(0))\n",
    "\n",
    "\"\"\"\n",
    "for i in filtroC:\n",
    "    for j in posibles:\n",
    "        if j.count(filtroC[int(i)]) < 1:\n",
    "            eliminar.append(j)\n",
    "\"\"\"\n",
    "\n",
    "for i in posibles:\n",
    "    for j in filtroC:\n",
    "        if i.count(j)<1:\n",
    "            posibles.remove(i)\n",
    "    \n",
    "for i in posibles:\n",
    "    for j in filtroU:\n",
    "        if i.count(j)>=1:\n",
    "            conservar.append(i)\n",
    "\n",
    "print(\"pepe\")\n",
    "\n",
    "for i in conservar:\n",
    "    if len(i)==3:\n",
    "        i.insert(\"0\")\n",
    "    elif len(i)==2:\n",
    "        i.insert(\"00\")\n",
    "    elif len(i)==1:\n",
    "        i.insert(\"000\")\n",
    "            \n",
    "if len(conservar)==1:\n",
    "    print(\"CODE IS: \"+conservar[0])\n",
    "elif len(conservar)>3:\n",
    "    print(\"WILL NOT WIN BET\")\n",
    "else:\n",
    "    for i in conservar:\n",
    "        print(\"POSSIBLE MATCH: \"+i)"
   ]
  },
  {
   "cell_type": "code",
   "execution_count": null,
   "id": "07710d21",
   "metadata": {},
   "outputs": [],
   "source": []
  }
 ],
 "metadata": {
  "kernelspec": {
   "display_name": "Python 3",
   "language": "python",
   "name": "python3"
  },
  "language_info": {
   "codemirror_mode": {
    "name": "ipython",
    "version": 3
   },
   "file_extension": ".py",
   "mimetype": "text/x-python",
   "name": "python",
   "nbconvert_exporter": "python",
   "pygments_lexer": "ipython3",
   "version": "3.10.1"
  }
 },
 "nbformat": 4,
 "nbformat_minor": 5
}
