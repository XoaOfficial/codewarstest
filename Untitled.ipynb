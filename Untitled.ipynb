{
 "cells": [
  {
   "cell_type": "code",
   "execution_count": null,
   "id": "8a65f11e",
   "metadata": {
    "scrolled": true
   },
   "outputs": [
    {
     "ename": "",
     "evalue": "",
     "output_type": "error",
     "traceback": [
      "\u001b[1;31mFailed to start the Kernel. \n",
      "Failed to start the Kernel 'Python 3.10.1 64-bit'. \n",
      "View Jupyter <a href='command:jupyter.viewOutput'>log</a> for further details. spawn C:\\Program Files\\Python310\\python.exe ENOENT"
     ]
    }
   ],
   "source": [
    "info = []\n",
    "filtroC = []\n",
    "filtroU = []\n",
    "posibles = []\n",
    "eliminar = []\n",
    "conservar = []\n",
    "\n",
    "for i in range (10):\n",
    "    posibles.append(str(i**2*100+i))\n",
    "\n",
    "for i in range (4):\n",
    "    info.append(input())\n",
    "for i in range (3):\n",
    "    for j in range (3):\n",
    "        if info[i][j]==\"C\":\n",
    "            filtroC.append(str(j+1+3*i))\n",
    "        elif info[i][j]==\"U\":\n",
    "            filtroU.append(str(j+1+3*i))\n",
    "if info[3][1]==\"C\":\n",
    "    filtroC.append(str(0))\n",
    "elif info[3][1]==\"U\":\n",
    "    filtroU.append(str(0))\n",
    "\n",
    "\"\"\"\n",
    "for i in filtroC:\n",
    "    for j in posibles:\n",
    "        if j.count(filtroC[int(i)]) < 1:\n",
    "            eliminar.append(j)\n",
    "\"\"\"\n",
    "\n",
    "for i in posibles:\n",
    "    for j in filtroC:\n",
    "        if i.count(j)<1:\n",
    "            posibles.remove(i)\n",
    "\n",
    "for i in range(10):\n",
    "    conservar.append(str(i))\n",
    "\n",
    "for i in filtroU:\n",
    "    conservar.remove(i)\n",
    "    \n",
    "for i in posibles:\n",
    "    for j in conservar:\n",
    "        if i.count(j)<1:\n",
    "            posibles.remove(i)\n",
    "\n",
    "\n",
    "for i in conservar:\n",
    "    if len(i)==3:\n",
    "        i.insert(\"0\")\n",
    "    elif len(i)==2:\n",
    "        i.insert(\"00\")\n",
    "    elif len(i)==1:\n",
    "        i.insert(\"000\")\n",
    "            \n",
    "if len(conservar)==1:\n",
    "    print(\"CODE IS: \"+conservar[0])\n",
    "elif len(conservar)>3:\n",
    "    print(\"WILL NOT WIN BET\")\n",
    "else:\n",
    "    for i in conservar:\n",
    "        print(\"POSSIBLE MATCH: \"+i)"
   ]
  },
  {
   "cell_type": "code",
   "execution_count": null,
   "id": "07710d21",
   "metadata": {},
   "outputs": [],
   "source": []
  }
 ],
 "metadata": {
  "kernelspec": {
   "display_name": "Python 3",
   "language": "python",
   "name": "python3"
  },
  "language_info": {
   "codemirror_mode": {
    "name": "ipython",
    "version": 3
   },
   "file_extension": ".py",
   "mimetype": "text/x-python",
   "name": "python",
   "nbconvert_exporter": "python",
   "pygments_lexer": "ipython3",
   "version": "3.10.1"
  }
 },
 "nbformat": 4,
 "nbformat_minor": 5
}
